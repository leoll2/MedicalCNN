{
  "nbformat": 4,
  "nbformat_minor": 0,
  "metadata": {
    "colab": {
      "name": "Composite_4_class.ipynb",
      "provenance": [],
      "toc_visible": true
    },
    "kernelspec": {
      "name": "python3",
      "display_name": "Python 3"
    },
    "accelerator": "GPU"
  },
  "cells": [
    {
      "cell_type": "markdown",
      "metadata": {
        "id": "V1XJ1h0ndT-3",
        "colab_type": "text"
      },
      "source": [
        "The 4-class task can be decomposed in two subtasks: mass-calcification classification and benign-malignant diagnosing. The idea is to train two models independently, each focusing on one subtask only; the two networks will then work in parallel, each producing one half of the full 4-class prediction. The rationale behind this *divide et impera* approach is that each network  specializes itself to solve a smaller and potentially easier subproblem, thus getting better results than addressing the whole problem in one fell swoop."
      ]
    },
    {
      "cell_type": "markdown",
      "metadata": {
        "id": "mJlLAXApFZZg",
        "colab_type": "text"
      },
      "source": [
        "# Environment setup"
      ]
    },
    {
      "cell_type": "code",
      "metadata": {
        "id": "_TOBgq9wEJx7",
        "colab_type": "code",
        "colab": {}
      },
      "source": [
        "# Connect to Google Drive\n",
        "\n",
        "from google.colab import drive\n",
        "drive.mount('/content/gdrive')"
      ],
      "execution_count": 0,
      "outputs": []
    },
    {
      "cell_type": "code",
      "metadata": {
        "id": "TnmYQR1TFYrj",
        "colab_type": "code",
        "colab": {}
      },
      "source": [
        "# Copy the dataset from Google Drive to local\n",
        "\n",
        "!cp \"/content/gdrive/My Drive/CBIS_DDSM.zip\" .\n",
        "!unzip -qq CBIS_DDSM.zip\n",
        "!rm CBIS_DDSM.zip\n",
        "cbis_path = 'CBIS_DDSM'"
      ],
      "execution_count": 0,
      "outputs": []
    },
    {
      "cell_type": "code",
      "metadata": {
        "id": "R2zXaceOFjaI",
        "colab_type": "code",
        "colab": {}
      },
      "source": [
        "# Import libraries\n",
        "\n",
        "%tensorflow_version 1.x\n",
        "import os\n",
        "import numpy as np\n",
        "import matplotlib.pyplot as plt\n",
        "import seaborn as sns\n",
        "import itertools\n",
        "from sklearn.metrics import confusion_matrix, roc_curve, auc, classification_report\n",
        "from tensorflow import keras\n",
        "from tensorflow.keras import layers\n",
        "from tensorflow.keras import models\n",
        "from tensorflow.keras import optimizers\n",
        "from tensorflow.keras.callbacks import EarlyStopping, ModelCheckpoint, LearningRateScheduler, Callback\n",
        "from tensorflow.keras.preprocessing.image import ImageDataGenerator\n",
        "from tensorflow.keras.optimizers import RMSprop\n",
        "from tensorflow.keras.regularizers import l2\n",
        "from tensorflow.keras.utils import plot_model\n",
        "from tensorflow.keras.utils import to_categorical\n",
        "from tensorflow.keras.applications import VGG16\n",
        "from tensorflow.keras.applications.vgg16 import preprocess_input"
      ],
      "execution_count": 0,
      "outputs": []
    },
    {
      "cell_type": "markdown",
      "metadata": {
        "id": "rBz7pSbCFrCj",
        "colab_type": "text"
      },
      "source": [
        "# Data pre-processing"
      ]
    },
    {
      "cell_type": "code",
      "metadata": {
        "id": "9pIRh0p_FsU3",
        "colab_type": "code",
        "colab": {}
      },
      "source": [
        "def load_testing():\n",
        "    \"\"\"\n",
        "    Load the test set (abnormalities patches and labels, no baseline)\n",
        "    \"\"\"\n",
        "    images = np.load(os.path.join(cbis_path, 'numpy data', 'public_test_tensor.npy'))[1::2]\n",
        "    labels = np.load(os.path.join(cbis_path, 'numpy data', 'public_test_labels.npy'))[1::2]\n",
        "    return images, labels\n",
        "\n",
        "\n",
        "def remap_label_type(l):\n",
        "    \"\"\"\n",
        "    Remap the labels to:\n",
        "        0 -> mass \n",
        "        1 -> calcification\n",
        "    \"\"\"\n",
        "    if l == 1 or l == 2:\n",
        "        return 0\n",
        "    elif l == 3 or l == 4:\n",
        "        return 1\n",
        "    else:\n",
        "        print(\"[WARN] Unrecognized label (%d)\" % l)\n",
        "        return None\n",
        "\n",
        "\n",
        "def remap_label_severity(l):\n",
        "    \"\"\"\n",
        "    Remap the labels to 0->benign 1->malignant\n",
        "    \"\"\"\n",
        "    if l == 1 or l == 3:\n",
        "        return 0\n",
        "    elif l == 2 or l == 4:\n",
        "        return 1\n",
        "    else:\n",
        "        print(\"[WARN] Unrecognized label (%d)\" % l)\n",
        "        return None\n",
        "\n",
        "\n",
        "def combine_labels_type_severity(ltype, lsev):\n",
        "    if ltype == 0 and lsev == 0:\n",
        "        return 1\n",
        "    elif ltype == 0 and lsev == 1:\n",
        "        return 2\n",
        "    elif ltype == 1 and lsev == 0:\n",
        "        return 3\n",
        "    elif ltype == 1 and lsev == 1:\n",
        "        return 4\n",
        "    else:\n",
        "        print(\"[WARN] Unrecognized labels (%d %d)\" % (ltype, lsev))\n",
        "        return None"
      ],
      "execution_count": 0,
      "outputs": []
    },
    {
      "cell_type": "code",
      "metadata": {
        "id": "jvJXn-wLHUbb",
        "colab_type": "code",
        "outputId": "ec3b749b-ef78-42e7-ca2a-30b89e009dc8",
        "colab": {
          "base_uri": "https://localhost:8080/",
          "height": 51
        }
      },
      "source": [
        "# Load training and test images (abnormalities only, no baseline)\n",
        "test_images, test_labels= load_testing()\n",
        "test_images_vgg, _ = load_testing()\n",
        "\n",
        "# Number of images\n",
        "n_test_img = test_images.shape[0]\n",
        "print(\"Test size: %d\" % (n_test_img))\n",
        "\n",
        "# Compute width and height of images\n",
        "img_w = test_images.shape[1]\n",
        "img_h = test_images.shape[2]\n",
        "print(\"Image size: %dx%d\" % (img_w, img_h))\n",
        "\n",
        "test_labels_raw = test_labels.copy()\n",
        "\n",
        "# Remap labels for mass-calc classification\n",
        "test_labels_type = np.array([remap_label_type(l) for l in test_labels])\n",
        "\n",
        "# Remap labels for benign-malignant classification\n",
        "test_labels_severity = np.array([remap_label_severity(l) for l in test_labels])\n",
        "\n",
        "# Create a new dimension for color in the images arrays\n",
        "test_images = test_images.reshape((n_test_img, img_w, img_h, 1))\n",
        "test_images_vgg = test_images_vgg.reshape((n_test_img, img_w, img_h, 1))\n",
        "\n",
        "# Rescale values to (0-1), or (0-255) for VGG\n",
        "test_images = test_images.astype('uint16') / 65535\n",
        "test_images_vgg = test_images_vgg.astype('uint16') / 256\n",
        "\n",
        "# Replicate the only channel 3 times for VGG16\n",
        "test_images_vgg = np.repeat(test_images_vgg, 3, axis=3)\n",
        "\n",
        "# Normalize VGG images\n",
        "preprocess_input(test_images_vgg);"
      ],
      "execution_count": 0,
      "outputs": [
        {
          "output_type": "stream",
          "text": [
            "Test size: 336\n",
            "Image size: 150x150\n"
          ],
          "name": "stdout"
        }
      ]
    },
    {
      "cell_type": "markdown",
      "metadata": {
        "id": "hQFE8jqsenTA",
        "colab_type": "text"
      },
      "source": [
        "# Composite model"
      ]
    },
    {
      "cell_type": "code",
      "metadata": {
        "id": "NFir0kYRLK0r",
        "colab_type": "code",
        "colab": {}
      },
      "source": [
        "!cp \"/content/gdrive/My Drive/models/vgg16_ft_2layer_2cl_best.h5\" .\n",
        "!cp \"/content/gdrive/My Drive/models/model_3_benmal_best.h5\" .\n",
        "\n",
        "# Model for mass-calcification classification\n",
        "model_type = models.load_model('vgg16_ft_2layer_2cl_best.h5');\n",
        "# Model for benign-malignant classification\n",
        "model_severity = models.load_model('model_3_benmal_best.h5');"
      ],
      "execution_count": 0,
      "outputs": []
    },
    {
      "cell_type": "code",
      "metadata": {
        "id": "hvUdYIqhNqSc",
        "colab_type": "code",
        "outputId": "980bfc55-0923-4e5e-d93e-d22db88a50ea",
        "colab": {
          "base_uri": "https://localhost:8080/",
          "height": 51
        }
      },
      "source": [
        "# Accuracy of the individual models on their respective tasks\n",
        "_, acc_type = model_type.evaluate(test_images_vgg, test_labels_type, verbose=False)\n",
        "_, acc_severity = model_severity.evaluate(test_images, test_labels_severity, verbose=False)\n",
        "\n",
        "pred_type = np.squeeze(model_type.predict_classes(test_images_vgg)).tolist()\n",
        "pred_severity = np.squeeze(model_severity.predict_classes(test_images)).tolist()\n",
        "\n",
        "print(\"Standalone type accuracy: %.4f\" % acc_type)\n",
        "print(\"Standalone severity accuracy: %.4f\" % acc_severity)"
      ],
      "execution_count": 0,
      "outputs": [
        {
          "output_type": "stream",
          "text": [
            "Standalone type accuracy: 0.9137\n",
            "Standalone severity accuracy: 0.6905\n"
          ],
          "name": "stdout"
        }
      ]
    },
    {
      "cell_type": "code",
      "metadata": {
        "id": "j-4FvmxFQsF7",
        "colab_type": "code",
        "outputId": "d3398114-e6aa-41ea-a6df-293b0213e8ef",
        "colab": {
          "base_uri": "https://localhost:8080/",
          "height": 221
        }
      },
      "source": [
        "# Get a 4-class prediction by combining two 2-class predictions\n",
        "pred_combined = [combine_labels_type_severity(a, b) for a,b in zip(pred_type, pred_severity)]\n",
        "\n",
        "combined_right = sum([p == l for p, l in zip(pred_combined, test_labels_raw)])\n",
        "combined_acc = combined_right / n_test_img\n",
        "\n",
        "print(\"Accuracy: %.4f\" % combined_acc)\n",
        "print(classification_report(test_labels_raw, pred_combined, digits=4))"
      ],
      "execution_count": 0,
      "outputs": [
        {
          "output_type": "stream",
          "text": [
            "Accuracy: 0.6250\n",
            "              precision    recall  f1-score   support\n",
            "\n",
            "           1     0.6961    0.6283    0.6605       113\n",
            "           2     0.5135    0.5758    0.5429        66\n",
            "           3     0.6975    0.7830    0.7378       106\n",
            "           4     0.4390    0.3529    0.3913        51\n",
            "\n",
            "    accuracy                         0.6250       336\n",
            "   macro avg     0.5865    0.5850    0.5831       336\n",
            "weighted avg     0.6216    0.6250    0.6209       336\n",
            "\n"
          ],
          "name": "stdout"
        }
      ]
    },
    {
      "cell_type": "code",
      "metadata": {
        "id": "VLo86FRoRea7",
        "colab_type": "code",
        "colab": {}
      },
      "source": [
        "def plot_confusion_matrix(cm, classes, normalize=False, title='Confusion matrix', cmap=plt.cm.Blues):\n",
        "\n",
        "    plt.imshow(cm, interpolation='nearest', cmap=cmap)\n",
        "    plt.title(title)\n",
        "    plt.colorbar()\n",
        "    tick_marks = np.arange(len(classes))\n",
        "    plt.xticks(tick_marks, classes, rotation=45)\n",
        "    plt.yticks(tick_marks, classes)\n",
        "\n",
        "    if normalize:\n",
        "        cm = cm.astype('float') / cm.sum(axis=1)[:, np.newaxis]\n",
        "\n",
        "    thresh = cm.max() / 2.\n",
        "    for i, j in itertools.product(range(cm.shape[0]), range(cm.shape[1])):\n",
        "        plt.text(j, i, cm[i, j],\n",
        "                 horizontalalignment=\"center\",\n",
        "                 color=\"white\" if cm[i, j] > thresh else \"black\")\n",
        "\n",
        "    plt.tight_layout()\n",
        "    plt.ylabel('True label')\n",
        "    plt.xlabel('Predicted label')"
      ],
      "execution_count": 0,
      "outputs": []
    },
    {
      "cell_type": "code",
      "metadata": {
        "id": "6gQkqqoFRerw",
        "colab_type": "code",
        "outputId": "067ffb01-1b78-46c2-a070-cc39594eff89",
        "colab": {
          "base_uri": "https://localhost:8080/",
          "height": 311
        }
      },
      "source": [
        "confusion_mtx = confusion_matrix(test_labels_raw, pred_combined) \n",
        "plot_confusion_matrix(confusion_mtx, classes=range(4), title='Composite model confusion matrix')"
      ],
      "execution_count": 0,
      "outputs": [
        {
          "output_type": "display_data",
          "data": {
            "image/png": "[encoded data removed]",
            "text/plain": [
              "<Figure size 432x288 with 2 Axes>"
            ]
          },
          "metadata": {
            "tags": []
          }
        }
      ]
    }
  ]
}